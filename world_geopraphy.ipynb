import plotly .plotly as py 
from plotly.offline import download_plotlyjs,init_notebook_mode,plot,iplot
import pandas as pd 
import plotly.graph_objs as go 
init_notebook_mode(connected=True)

df=pd.read_csv("2014_World_GDP")
df.head()

data=dict(type='choropleth',
		locations=df['CODE'],
		text=df['COUNTRY'],
		z=df['GDP (BILLIONS)'],
		colorbar={"title":"GEOGRAPHY WORLD 2014"})

layout=dict(title="WORLD 2014",
		geo=dict(showframe=False,projection={"type":"stereographic"}))

show=go.Figure(data=[data],layout=layout)

iplot(show)